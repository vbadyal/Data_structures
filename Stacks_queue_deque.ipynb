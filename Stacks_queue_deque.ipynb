{
 "cells": [
  {
   "cell_type": "markdown",
   "metadata": {},
   "source": [
    "## Introduction"
   ]
  },
  {
   "cell_type": "code",
   "execution_count": 1,
   "metadata": {},
   "outputs": [
    {
     "name": "stdout",
     "output_type": "stream",
     "text": [
      "[1, 2, 3, 4, 5]\n",
      "s before: [1, 2, 3, 4, 5]\n",
      "pop():  5\n",
      "s after: [1, 2, 3, 4]\n",
      "pop():  4\n",
      "s after: [1, 2, 3]\n",
      "pop(0):  1\n",
      "s finally: [2, 3]\n"
     ]
    }
   ],
   "source": [
    "# Using a Python list (array) and adding/removing elements \n",
    "s=[2,3,4]\n",
    "s.append(5)\n",
    "s.insert(0,1)\n",
    "print (s)\n",
    "print (\"s before:\",s)\n",
    "print (\"pop(): \", s.pop())\n",
    "print (\"s after:\", s)\n",
    "print (\"pop(): \", s.pop())\n",
    "print (\"s after:\", s)\n",
    "print (\"pop(0): \", s.pop(0))\n",
    "print (\"s finally:\", s)"
   ]
  },
  {
   "cell_type": "code",
   "execution_count": 3,
   "metadata": {},
   "outputs": [
    {
     "name": "stdout",
     "output_type": "stream",
     "text": [
      "5 4 3\n",
      "True\n"
     ]
    }
   ],
   "source": [
    "class MyStack:\n",
    "    \"\"\" simple stack implemented using a Python list (array)\"\"\"\n",
    "    def __init__(self):\n",
    "        self.data = []\n",
    "        \n",
    "    def push(self,x):\n",
    "        self.data.append(x)\n",
    "        \n",
    "    def pop(self):\n",
    "        return self.data.pop()\n",
    "    \n",
    "    def is_empty(self):\n",
    "        return len(self.data) == 0\n",
    "    \n",
    "s = MyStack()\n",
    "s.push(3)\n",
    "s.push(4)\n",
    "s.push(5)\n",
    "print (s.pop(), s.pop(), s.pop())\n",
    "print (s.is_empty())"
   ]
  },
  {
   "cell_type": "code",
   "execution_count": 4,
   "metadata": {},
   "outputs": [
    {
     "name": "stdout",
     "output_type": "stream",
     "text": [
      "47.3 ms ± 604 µs per loop (mean ± std. dev. of 7 runs, 10 loops each)\n",
      "94.8 ms ± 9.56 ms per loop (mean ± std. dev. of 7 runs, 10 loops each)\n",
      "186 ms ± 6.51 ms per loop (mean ± std. dev. of 7 runs, 10 loops each)\n",
      "364 ms ± 19 ms per loop (mean ± std. dev. of 7 runs, 1 loop each)\n",
      "763 ms ± 26.3 ms per loop (mean ± std. dev. of 7 runs, 1 loop each)\n",
      "1.57 s ± 63.2 ms per loop (mean ± std. dev. of 7 runs, 1 loop each)\n"
     ]
    }
   ],
   "source": [
    "def stack_fill_and_empty(n):\n",
    "    S = MyStack()\n",
    "    for item in range(n):\n",
    "        S.push(item)\n",
    "        \n",
    "    while n>0:\n",
    "        S.pop()\n",
    "        n -= 1\n",
    "\n",
    "sizes = [10000, 20000, 40000, 80000, 160000, 320000]\n",
    "for n in sizes:\n",
    "    %timeit stack_fill_and_empty(n)"
   ]
  },
  {
   "cell_type": "code",
   "execution_count": 5,
   "metadata": {},
   "outputs": [],
   "source": [
    "import numpy as np\n",
    "def fit_poly(x,y,k):\n",
    "    n = len(x)\n",
    "    x = np.array(x)\n",
    "    y = np.array(y)\n",
    "    A = np.zeros((n,k+1))\n",
    "    for i in range(k+1):\n",
    "        A[:,i] = np.array(x)**i\n",
    "    c = np.linalg.lstsq(A,y)[0]\n",
    "    misfit = np.linalg.norm(np.dot(A,c)-y)    \n",
    "    return c, misfit"
   ]
  },
  {
   "cell_type": "code",
   "execution_count": 7,
   "metadata": {},
   "outputs": [
    {
     "name": "stdout",
     "output_type": "stream",
     "text": [
      "coefficients: [ -1.13084577e+00   1.08489694e-03]\n",
      "misfit: 1.29666347842\n"
     ]
    }
   ],
   "source": [
    "x = sizes\n",
    "y = [10.2, 20.5, 42.4, 84.6, 173, 346]\n",
    "c, misfit = fit_poly(x, y, 1) #coefficients for 2nd degree and 3rd degree terms approx. zero when tried with k=2 & 3\n",
    "print (\"coefficients:\",c)\n",
    "print (\"misfit:\", misfit)"
   ]
  },
  {
   "cell_type": "code",
   "execution_count": 8,
   "metadata": {},
   "outputs": [
    {
     "data": {
      "image/png": "[encoded data removed]",
      "text/plain": [
       "<matplotlib.figure.Figure at 0x145f1671dac8>"
      ]
     },
     "metadata": {},
     "output_type": "display_data"
    }
   ],
   "source": [
    "xx = np.linspace(0,2*x[-1],100)\n",
    "yy = xx * 0\n",
    "for idx,cc in enumerate(c):\n",
    "    yy = yy + cc*xx**idx\n",
    "\n",
    "plt.plot(x, y, 'o')\n",
    "plt.plot(xx, yy, 'r')\n",
    "plt.show()"
   ]
  },
  {
   "cell_type": "code",
   "execution_count": 9,
   "metadata": {},
   "outputs": [
    {
     "name": "stdout",
     "output_type": "stream",
     "text": [
      "coefficients: [-7.05802554  1.01852791]\n",
      "misfit: 0.0177058613011\n",
      "best fitting polynomial: 0.000860475392788 x^ 1.01852791344\n"
     ]
    }
   ],
   "source": [
    "# alternatively fitting f(x)=c0 x^c1:\n",
    "c, misfit = fit_poly(np.log(x),np.log(y),1)\n",
    "print (\"coefficients:\",c)\n",
    "print (\"misfit:\", misfit)\n",
    "print (\"best fitting polynomial:\",np.exp(c[0]),\"x^\",c[1])"
   ]
  },
  {
   "cell_type": "markdown",
   "metadata": {},
   "source": [
    "We can conclude that pushing n elements to the stack and removing them again takes O(n) time. This means each operation is O(1) (on average!) "
   ]
  },
  {
   "cell_type": "markdown",
   "metadata": {},
   "source": [
    "## 1. Test queue operations using a Python list\n",
    "We first use a Python list (array) as an (inefficient) queue. Our test consists of queueing n elements and then dequeueing all of them. Complete the code below, time for different n, create a fit of the right degree and conclude what the cost of queueing and dequeueing one element is."
   ]
  },
  {
   "cell_type": "code",
   "execution_count": 10,
   "metadata": {},
   "outputs": [
    {
     "name": "stdout",
     "output_type": "stream",
     "text": [
      "143 ms ± 5.08 ms per loop (mean ± std. dev. of 7 runs, 10 loops each)\n",
      "527 ms ± 35.6 ms per loop (mean ± std. dev. of 7 runs, 1 loop each)\n",
      "2.01 s ± 99 ms per loop (mean ± std. dev. of 7 runs, 1 loop each)\n",
      "7.74 s ± 83.7 ms per loop (mean ± std. dev. of 7 runs, 1 loop each)\n",
      "33.1 s ± 658 ms per loop (mean ± std. dev. of 7 runs, 1 loop each)\n"
     ]
    }
   ],
   "source": [
    "def fill_and_empty_queue_using_list(n):\n",
    "    L = []\n",
    "    for item in range(n):\n",
    "        L.append(item)\n",
    "        \n",
    "    while n > 0:\n",
    "        L.pop(0)\n",
    "        n -= 1\n",
    "    \n",
    "sizes = [10000,20000,40000,80000,160000]\n",
    "for n in sizes:\n",
    "    %timeit fill_and_empty_queue_using_list(n)"
   ]
  },
  {
   "cell_type": "code",
   "execution_count": 14,
   "metadata": {},
   "outputs": [
    {
     "name": "stdout",
     "output_type": "stream",
     "text": [
      "coefficients: [  3.39411765e+01  -1.99985452e-03   2.85705250e-07]\n",
      "misfit: 24.9119334372\n"
     ]
    },
    {
     "data": {
      "image/png": "[encoded data removed]",
      "text/plain": [
       "<matplotlib.figure.Figure at 0x145ef42b3400>"
      ]
     },
     "metadata": {},
     "output_type": "display_data"
    }
   ],
   "source": [
    "x = sizes\n",
    "y = [31.3,112,429,1690,7030] \n",
    "c, misfit = fit_poly(x,y,2) #k=3 yields coefficient for 3rd order term approx zero\n",
    "print (\"coefficients:\",c )\n",
    "print (\"misfit:\", misfit)\n",
    "\n",
    "xx = np.linspace(0,x[-1],100)\n",
    "yy = xx * 0\n",
    "for idx,cc in enumerate(c):\n",
    "    yy = yy + cc*xx**idx\n",
    "\n",
    "plt.plot(x, y, 'o')\n",
    "plt.plot(xx, yy, 'r')\n",
    "plt.show()"
   ]
  },
  {
   "cell_type": "code",
   "execution_count": 15,
   "metadata": {},
   "outputs": [
    {
     "name": "stdout",
     "output_type": "stream",
     "text": [
      "coefficients: [-9.15180332  0.91647542  0.04894542]\n",
      "misfit: 0.00903057040054\n",
      "best fitting polynomial: 0.000106028426613 x^ 0.916475417991\n"
     ]
    }
   ],
   "source": [
    "c, misfit = fit_poly(np.log(x),np.log(y),2)\n",
    "print (\"coefficients:\",c)\n",
    "print (\"misfit:\", misfit)\n",
    "print (\"best fitting polynomial:\",np.exp(c[0]),\"x^\",c[1])"
   ]
  },
  {
   "cell_type": "markdown",
   "metadata": {},
   "source": [
    "fill_and_empty_queue_using_list(n) takes O(n^2). To conclude:\n",
    "1. enqueue one element (append to a list) takes O(1)\n",
    "2. dequeuing one element (remove from the left) takes O(n)\n",
    "3. while removing the last element in a list takes O(1)."
   ]
  },
  {
   "cell_type": "markdown",
   "metadata": {},
   "source": [
    "## 2. Using a deque\n",
    "First determine the correct functions to call to enqueue (add to the right) and dequeue (pop from the left) an element from a deque. Try it out in the next block (it should print 1, then 2, then 3).\n",
    "Then complete dequeue_fill_and_empty() with those commands, benchmark it, fit a curve, and conclude."
   ]
  },
  {
   "cell_type": "code",
   "execution_count": 16,
   "metadata": {},
   "outputs": [
    {
     "name": "stdout",
     "output_type": "stream",
     "text": [
      "1\n",
      "2\n",
      "3\n"
     ]
    }
   ],
   "source": [
    "from collections import deque\n",
    "Q = deque()\n",
    "Q.append(1) # enqueue 1\n",
    "Q.append(2) # enqueue 2\n",
    "Q.append(3) # enqueue 3\n",
    "print (Q.popleft()) # dequeue and print\n",
    "print (Q.popleft()) # dequeue and print\n",
    "print (Q.popleft()) # dequeue and print"
   ]
  },
  {
   "cell_type": "code",
   "execution_count": 17,
   "metadata": {},
   "outputs": [
    {
     "name": "stdout",
     "output_type": "stream",
     "text": [
      "17.1 ms ± 537 µs per loop (mean ± std. dev. of 7 runs, 100 loops each)\n",
      "35.6 ms ± 457 µs per loop (mean ± std. dev. of 7 runs, 10 loops each)\n",
      "69 ms ± 2.7 ms per loop (mean ± std. dev. of 7 runs, 10 loops each)\n",
      "148 ms ± 7.12 ms per loop (mean ± std. dev. of 7 runs, 10 loops each)\n",
      "306 ms ± 14.7 ms per loop (mean ± std. dev. of 7 runs, 1 loop each)\n"
     ]
    }
   ],
   "source": [
    "def dequeue_fill_and_empty(n):\n",
    "    L = deque()\n",
    "    for item in range(n):\n",
    "        L.append(item) # enqueue\n",
    "        \n",
    "    while n > 0:\n",
    "        L.popleft() # now dequeue\n",
    "        n -= 1\n",
    "\n",
    "sizes = [10000,20000,40000,80000,160000]\n",
    "for n in sizes:\n",
    "    %timeit dequeue_fill_and_empty(n)"
   ]
  },
  {
   "cell_type": "code",
   "execution_count": 19,
   "metadata": {},
   "outputs": [
    {
     "name": "stdout",
     "output_type": "stream",
     "text": [
      "coefficients: [ -9.67500000e-01   4.02153226e-04]\n",
      "misfit: 1.839491953\n"
     ]
    },
    {
     "data": {
      "image/png": "[encoded data removed]",
      "text/plain": [
       "<matplotlib.figure.Figure at 0x145ef4157748>"
      ]
     },
     "metadata": {},
     "output_type": "display_data"
    }
   ],
   "source": [
    "x = sizes\n",
    "y = [3.71,7.42,14.9,29.7,64.1] # fill\n",
    "c, misfit = fit_poly(x,y,1) #k=2 gives the coefficient for 2nd order term approx zero\n",
    "print (\"coefficients:\",c)\n",
    "print (\"misfit:\", misfit)\n",
    "\n",
    "xx = np.linspace(0,x[-1],100)\n",
    "yy = xx * 0\n",
    "for idx,cc in enumerate(c):\n",
    "    yy = yy + cc*xx**idx\n",
    "\n",
    "plt.plot(x, y, 'o')\n",
    "plt.plot(xx, yy, 'r')\n",
    "plt.show()"
   ]
  },
  {
   "cell_type": "markdown",
   "metadata": {},
   "source": [
    "Filling and emptying a queue (n elements) based on Python's deque takes: O(n). Therefore, a single enqueue() or dequeue() takes: O(1). Read up on wikipedia on \"deque\" and state the cost for the operations for:\n",
    "1. add element on left: O(1)\n",
    "2. add element on right: O(1)\n",
    "3. remove element on left: O(1)\n",
    "4. remove element on right: O(1)\n",
    "\n",
    "Is that what you see? Yes the graph shows a linear trend, when n is increased computational time increases linearly as the cost of all insertion and removal operations from the end or beginning are constant for deque (O(1)) i.e. O(n) for n operations."
   ]
  },
  {
   "cell_type": "markdown",
   "metadata": {
    "collapsed": true
   },
   "source": [
    "## 3: Now implement a deque using a doubly-linked list\n",
    "Complete the implementation, make sure the tests work, and finally time the operations."
   ]
  },
  {
   "cell_type": "code",
   "execution_count": 20,
   "metadata": {},
   "outputs": [
    {
     "name": "stdout",
     "output_type": "stream",
     "text": [
      "[[ 0 1 2 3 4 ]]\n",
      "pop_left: 0\n",
      "pop_right: 4\n",
      "[[ 1 2 3 ]]\n",
      "pop_left: 1\n",
      "[[ 2 3 ]]\n",
      "pop_left: 2\n",
      "pop_right: 3\n",
      "[[ ]]\n",
      "pop_left: None\n",
      "pop_right: None\n"
     ]
    }
   ],
   "source": [
    "class MyDeque:\n",
    "    \"\"\" a double-ended queue implemented using a linked list\"\"\"\n",
    " \n",
    "    class ListItem:\n",
    "        \"\"\" an item in a doubly-linked list\"\"\"\n",
    "        def __init__(self, x, prev, next):\n",
    "            self.item = x\n",
    "            self.prev = prev\n",
    "            self.next = next\n",
    "\n",
    "    def __init__(self):\n",
    "        self.head = None\n",
    "        self.tail = None\n",
    "        \n",
    "    def push_right(self, x):\n",
    "        if self.head == None:\n",
    "            self.head = MyDeque.ListItem(x,None, None)\n",
    "            self.tail = self.head\n",
    "        else:\n",
    "            n = MyDeque.ListItem(x, self.tail, None)\n",
    "            self.tail.next = n\n",
    "            self.tail = n\n",
    "            \n",
    "    def push_left(self, x):\n",
    "        if self.head == None:\n",
    "            self.head = MyDeque.ListItem(x,None, None)\n",
    "            self.tail = self.head\n",
    "        else:\n",
    "            n = MyDeque.ListItem(x, None, self.head)\n",
    "            self.head.prev = n\n",
    "            self.head = n\n",
    "            \n",
    "   \n",
    "    def pop_left(self):\n",
    "        if self.head == None:\n",
    "            return None\n",
    "        item = self.head.item\n",
    "        if self.head.next == None:\n",
    "            self.head = None\n",
    "            self.tail = None\n",
    "        else:\n",
    "            newhead = self.head.next\n",
    "            newhead.prev = None\n",
    "            self.head = newhead\n",
    "        return item\n",
    "    \n",
    "    def pop_right(self):\n",
    "        if self.head == None:\n",
    "            return None\n",
    "        item = self.tail.item \n",
    "        if self.head.next == None:\n",
    "            self.head = None\n",
    "            self.tail = None\n",
    "        else:\n",
    "            newtail = self.tail.prev\n",
    "            newtail.next = None\n",
    "            self.tail = newtail\n",
    "        \n",
    "        return item\n",
    "    \n",
    "    def print_it(self):\n",
    "        it = self.head\n",
    "        print (\"[[ \", end=\"\")\n",
    "        while it != None:\n",
    "            print (it.item, end=\" \")\n",
    "            it = it.next\n",
    "        print (\"]]\")\n",
    "\n",
    "Q = MyDeque()\n",
    "Q.push_right(1)\n",
    "Q.push_right(2)\n",
    "Q.push_right(3)\n",
    "Q.push_left(0)\n",
    "Q.push_right(4)\n",
    "Q.print_it()\n",
    "print (\"pop_left:\", Q.pop_left())\n",
    "print (\"pop_right:\", Q.pop_right())\n",
    "Q.print_it()\n",
    "print (\"pop_left:\", Q.pop_left())\n",
    "Q.print_it()\n",
    "print (\"pop_left:\", Q.pop_left())\n",
    "print (\"pop_right:\", Q.pop_right())\n",
    "Q.print_it()\n",
    "print (\"pop_left:\", Q.pop_left())\n",
    "print (\"pop_right:\", Q.pop_right())"
   ]
  },
  {
   "cell_type": "code",
   "execution_count": 21,
   "metadata": {},
   "outputs": [
    {
     "name": "stderr",
     "output_type": "stream",
     "text": [
      "Warning: Illegal attribute sides in <TD> - ignored\n",
      "Warning: Illegal attribute sides in <TD> - ignored\n",
      "Warning: Illegal attribute sides in <TD> - ignored\n",
      "Warning: Illegal attribute sides in <TD> - ignored\n",
      "in label of node node22398053689216\n",
      "Warning: Illegal attribute sides in <TD> - ignored\n",
      "Warning: Illegal attribute sides in <TD> - ignored\n",
      "Warning: Illegal attribute sides in <TD> - ignored\n",
      "Warning: Illegal attribute sides in <TD> - ignored\n",
      "in label of node node22398054816008\n",
      "Warning: Illegal attribute sides in <TD> - ignored\n",
      "Warning: Illegal attribute sides in <TD> - ignored\n",
      "Warning: Illegal attribute sides in <TD> - ignored\n",
      "Warning: Illegal attribute sides in <TD> - ignored\n",
      "in label of node node22398053690840\n",
      "Warning: Illegal attribute sides in <TD> - ignored\n",
      "Warning: Illegal attribute sides in <TD> - ignored\n",
      "Warning: Illegal attribute sides in <TD> - ignored\n",
      "in label of node node22398053688544\n"
     ]
    },
    {
     "data": {
      "image/svg+xml": [
       "<?xml version=\"1.0\" encoding=\"UTF-8\" standalone=\"no\"?>\n",
       "<!DOCTYPE svg PUBLIC \"-//W3C//DTD SVG 1.1//EN\"\n",
       " \"http://www.w3.org/Graphics/SVG/1.1/DTD/svg11.dtd\">\n",
       "<!-- Generated by graphviz version 2.30.1 (20180223.0356)\n",
       " -->\n",
       "<!-- Title: G Pages: 1 -->\n",
       "<svg width=\"158pt\" height=\"142pt\"\n",
       " viewBox=\"0.00 0.00 158.00 142.00\" xmlns=\"http://www.w3.org/2000/svg\" xmlns:xlink=\"http://www.w3.org/1999/xlink\">\n",
       "<g id=\"graph0\" class=\"graph\" transform=\"scale(1 1) rotate(0) translate(4 138)\">\n",
       "<title>G</title>\n",
       "<polygon fill=\"white\" stroke=\"white\" points=\"-4,5 -4,-138 155,-138 155,5 -4,5\"/>\n",
       "<!-- node22398053689216 -->\n",
       "<g id=\"node1\" class=\"node\"><title>node22398053689216</title>\n",
       "<polygon fill=\"#fefecd\" stroke=\"#444443\" stroke-width=\"0.5\" points=\"64,-78.5 4,-78.5 4,-15.5 64,-15.5 64,-78.5\"/>\n",
       "<polygon fill=\"#fefecd\" stroke=\"none\" points=\"6,-62 6,-76 62,-76 62,-62 6,-62\"/>\n",
       "<polygon fill=\"none\" stroke=\"#444443\" points=\"6,-62 6,-76 62,-76 62,-62 6,-62\"/>\n",
       "<text text-anchor=\"start\" x=\"15.5\" y=\"-66.7\" font-family=\"Times,serif\" font-style=\"italic\" font-size=\"11.00\" fill=\"#444443\">ListItem</text>\n",
       "<polygon fill=\"#fefecd\" stroke=\"none\" points=\"6,-60 6,-62 62,-62 62,-60 6,-60\"/>\n",
       "<polygon fill=\"#fefecd\" stroke=\"none\" points=\"6,-47 6,-60 34,-60 34,-47 6,-47\"/>\n",
       "<polygon fill=\"none\" stroke=\"#444443\" points=\"6,-47 6,-60 34,-60 34,-47 6,-47\"/>\n",
       "<text text-anchor=\"start\" x=\"9\" y=\"-51.2\" font-family=\"Helvetica,sans-Serif\" font-size=\"11.00\" fill=\"#444443\">item </text>\n",
       "<polygon fill=\"#fefecd\" stroke=\"none\" points=\"47,-47 47,-60 62,-60 62,-47 47,-47\"/>\n",
       "<text text-anchor=\"start\" x=\"48\" y=\"-51.2\" font-family=\"Helvetica,sans-Serif\" font-size=\"11.00\" fill=\"#444443\"> 1</text>\n",
       "<polygon fill=\"#fefecd\" stroke=\"none\" points=\"6,-45 6,-47 62,-47 62,-45 6,-45\"/>\n",
       "<polygon fill=\"#fefecd\" stroke=\"none\" points=\"6,-32 6,-45 34,-45 34,-32 6,-32\"/>\n",
       "<polygon fill=\"none\" stroke=\"#444443\" points=\"6,-32 6,-45 34,-45 34,-32 6,-32\"/>\n",
       "<text text-anchor=\"start\" x=\"8\" y=\"-36.2\" font-family=\"Helvetica,sans-Serif\" font-size=\"11.00\" fill=\"#444443\">prev </text>\n",
       "<polygon fill=\"#fefecd\" stroke=\"none\" points=\"47,-32 47,-45 62,-45 62,-32 47,-32\"/>\n",
       "<text text-anchor=\"start\" x=\"48\" y=\"-36.2\" font-family=\"Helvetica,sans-Serif\" font-size=\"11.00\" fill=\"#444443\"> &#160;&#160;&#160;</text>\n",
       "<polygon fill=\"#fefecd\" stroke=\"none\" points=\"6,-30 6,-32 62,-32 62,-30 6,-30\"/>\n",
       "<polygon fill=\"#fefecd\" stroke=\"none\" points=\"6,-17 6,-30 34,-30 34,-17 6,-17\"/>\n",
       "<polygon fill=\"none\" stroke=\"#444443\" points=\"6,-17 6,-30 34,-30 34,-17 6,-17\"/>\n",
       "<text text-anchor=\"start\" x=\"9\" y=\"-21.2\" font-family=\"Helvetica,sans-Serif\" font-size=\"11.00\" fill=\"#444443\">next </text>\n",
       "<polygon fill=\"#fefecd\" stroke=\"none\" points=\"47,-17 47,-30 62,-30 62,-17 47,-17\"/>\n",
       "<text text-anchor=\"start\" x=\"48\" y=\"-21.2\" font-family=\"Helvetica,sans-Serif\" font-size=\"11.00\" fill=\"#444443\"> &#160;&#160;&#160;</text>\n",
       "</g>\n",
       "<!-- node22398053690840 -->\n",
       "<g id=\"node3\" class=\"node\"><title>node22398053690840</title>\n",
       "<polygon fill=\"#fefecd\" stroke=\"#444443\" stroke-width=\"0.5\" points=\"150,-132.5 90,-132.5 90,-69.5 150,-69.5 150,-132.5\"/>\n",
       "<polygon fill=\"#fefecd\" stroke=\"none\" points=\"92,-116 92,-130 148,-130 148,-116 92,-116\"/>\n",
       "<polygon fill=\"none\" stroke=\"#444443\" points=\"92,-116 92,-130 148,-130 148,-116 92,-116\"/>\n",
       "<text text-anchor=\"start\" x=\"101.5\" y=\"-120.7\" font-family=\"Times,serif\" font-style=\"italic\" font-size=\"11.00\" fill=\"#444443\">ListItem</text>\n",
       "<polygon fill=\"#fefecd\" stroke=\"none\" points=\"92,-114 92,-116 148,-116 148,-114 92,-114\"/>\n",
       "<polygon fill=\"#fefecd\" stroke=\"none\" points=\"92,-101 92,-114 120,-114 120,-101 92,-101\"/>\n",
       "<polygon fill=\"none\" stroke=\"#444443\" points=\"92,-101 92,-114 120,-114 120,-101 92,-101\"/>\n",
       "<text text-anchor=\"start\" x=\"95\" y=\"-105.2\" font-family=\"Helvetica,sans-Serif\" font-size=\"11.00\" fill=\"#444443\">item </text>\n",
       "<polygon fill=\"#fefecd\" stroke=\"none\" points=\"133,-101 133,-114 148,-114 148,-101 133,-101\"/>\n",
       "<text text-anchor=\"start\" x=\"134\" y=\"-105.2\" font-family=\"Helvetica,sans-Serif\" font-size=\"11.00\" fill=\"#444443\"> 0</text>\n",
       "<polygon fill=\"#fefecd\" stroke=\"none\" points=\"92,-99 92,-101 148,-101 148,-99 92,-99\"/>\n",
       "<polygon fill=\"#fefecd\" stroke=\"none\" points=\"92,-86 92,-99 120,-99 120,-86 92,-86\"/>\n",
       "<polygon fill=\"none\" stroke=\"#444443\" points=\"92,-86 92,-99 120,-99 120,-86 92,-86\"/>\n",
       "<text text-anchor=\"start\" x=\"94\" y=\"-90.2\" font-family=\"Helvetica,sans-Serif\" font-size=\"11.00\" fill=\"#444443\">prev </text>\n",
       "<polygon fill=\"#fefecd\" stroke=\"none\" points=\"133,-86 133,-99 148,-99 148,-86 133,-86\"/>\n",
       "<text text-anchor=\"start\" x=\"134\" y=\"-90.2\" font-family=\"Helvetica,sans-Serif\" font-size=\"11.00\" fill=\"#444443\"> &#160;&#160;&#160;</text>\n",
       "<polygon fill=\"#fefecd\" stroke=\"none\" points=\"92,-84 92,-86 148,-86 148,-84 92,-84\"/>\n",
       "<polygon fill=\"#fefecd\" stroke=\"none\" points=\"92,-71 92,-84 120,-84 120,-71 92,-71\"/>\n",
       "<polygon fill=\"none\" stroke=\"#444443\" points=\"92,-71 92,-84 120,-84 120,-71 92,-71\"/>\n",
       "<text text-anchor=\"start\" x=\"95\" y=\"-75.2\" font-family=\"Helvetica,sans-Serif\" font-size=\"11.00\" fill=\"#444443\">next </text>\n",
       "<polygon fill=\"#fefecd\" stroke=\"none\" points=\"133,-71 133,-84 148,-84 148,-71 133,-71\"/>\n",
       "<text text-anchor=\"start\" x=\"134\" y=\"-75.2\" font-family=\"Helvetica,sans-Serif\" font-size=\"11.00\" fill=\"#444443\"> &#160;&#160;&#160;</text>\n",
       "</g>\n",
       "<!-- node22398053689216&#45;&gt;node22398053690840 -->\n",
       "<g id=\"edge4\" class=\"edge\"><title>node22398053689216:prev:c&#45;&gt;node22398053690840</title>\n",
       "<path fill=\"none\" stroke=\"#444443\" stroke-width=\"0.5\" d=\"M58.2888,-40.2888C63.1049,-45.1049 74.8242,-56.8242 86.6958,-68.6958\"/>\n",
       "<ellipse fill=\"#444443\" stroke=\"#444443\" cx=\"57.1314\" cy=\"-39.1314\" rx=\"1.60002\" ry=\"1.60002\"/>\n",
       "<polygon fill=\"#444443\" stroke=\"#444443\" points=\"85.8948,-69.8747 89.7132,-71.7132 87.8747,-67.8948 85.8948,-69.8747\"/>\n",
       "</g>\n",
       "<!-- node22398054816008 -->\n",
       "<g id=\"node2\" class=\"node\"><title>node22398054816008</title>\n",
       "<polygon fill=\"#fefecd\" stroke=\"#444443\" stroke-width=\"0.5\" points=\"150,-62.5 90,-62.5 90,0.5 150,0.5 150,-62.5\"/>\n",
       "<polygon fill=\"#fefecd\" stroke=\"none\" points=\"92,-46 92,-60 148,-60 148,-46 92,-46\"/>\n",
       "<polygon fill=\"none\" stroke=\"#444443\" points=\"92,-46 92,-60 148,-60 148,-46 92,-46\"/>\n",
       "<text text-anchor=\"start\" x=\"101.5\" y=\"-50.7\" font-family=\"Times,serif\" font-style=\"italic\" font-size=\"11.00\" fill=\"#444443\">ListItem</text>\n",
       "<polygon fill=\"#fefecd\" stroke=\"none\" points=\"92,-44 92,-46 148,-46 148,-44 92,-44\"/>\n",
       "<polygon fill=\"#fefecd\" stroke=\"none\" points=\"92,-31 92,-44 120,-44 120,-31 92,-31\"/>\n",
       "<polygon fill=\"none\" stroke=\"#444443\" points=\"92,-31 92,-44 120,-44 120,-31 92,-31\"/>\n",
       "<text text-anchor=\"start\" x=\"95\" y=\"-35.2\" font-family=\"Helvetica,sans-Serif\" font-size=\"11.00\" fill=\"#444443\">item </text>\n",
       "<polygon fill=\"#fefecd\" stroke=\"none\" points=\"133,-31 133,-44 148,-44 148,-31 133,-31\"/>\n",
       "<text text-anchor=\"start\" x=\"134\" y=\"-35.2\" font-family=\"Helvetica,sans-Serif\" font-size=\"11.00\" fill=\"#444443\"> 2</text>\n",
       "<polygon fill=\"#fefecd\" stroke=\"none\" points=\"92,-29 92,-31 148,-31 148,-29 92,-29\"/>\n",
       "<polygon fill=\"#fefecd\" stroke=\"none\" points=\"92,-16 92,-29 120,-29 120,-16 92,-16\"/>\n",
       "<polygon fill=\"none\" stroke=\"#444443\" points=\"92,-16 92,-29 120,-29 120,-16 92,-16\"/>\n",
       "<text text-anchor=\"start\" x=\"94\" y=\"-20.2\" font-family=\"Helvetica,sans-Serif\" font-size=\"11.00\" fill=\"#444443\">prev </text>\n",
       "<polygon fill=\"#fefecd\" stroke=\"none\" points=\"133,-16 133,-29 148,-29 148,-16 133,-16\"/>\n",
       "<text text-anchor=\"start\" x=\"134\" y=\"-20.2\" font-family=\"Helvetica,sans-Serif\" font-size=\"11.00\" fill=\"#444443\"> &#160;&#160;&#160;</text>\n",
       "<polygon fill=\"#fefecd\" stroke=\"none\" points=\"92,-14 92,-16 148,-16 148,-14 92,-14\"/>\n",
       "<polygon fill=\"#fefecd\" stroke=\"none\" points=\"92,-1 92,-14 120,-14 120,-1 92,-1\"/>\n",
       "<polygon fill=\"none\" stroke=\"#444443\" points=\"92,-1 92,-14 120,-14 120,-1 92,-1\"/>\n",
       "<text text-anchor=\"start\" x=\"95\" y=\"-5.2\" font-family=\"Helvetica,sans-Serif\" font-size=\"11.00\" fill=\"#444443\">next </text>\n",
       "<polygon fill=\"#fefecd\" stroke=\"none\" points=\"133,-1 133,-14 148,-14 148,-1 133,-1\"/>\n",
       "<text text-anchor=\"start\" x=\"134\" y=\"-5.2\" font-family=\"Helvetica,sans-Serif\" font-size=\"11.00\" fill=\"#444443\"> &#160;&#160;&#160;</text>\n",
       "</g>\n",
       "<!-- node22398053689216&#45;&gt;node22398054816008 -->\n",
       "<g id=\"edge5\" class=\"edge\"><title>node22398053689216:next:c&#45;&gt;node22398054816008</title>\n",
       "<path fill=\"none\" stroke=\"#444443\" stroke-width=\"0.5\" d=\"M59.315,-23.421C64.4788,-24.0767 74.9733,-25.4093 85.7425,-26.7768\"/>\n",
       "<ellipse fill=\"#444443\" stroke=\"#444443\" cx=\"57.5873\" cy=\"-23.2016\" rx=\"1.60001\" ry=\"1.60001\"/>\n",
       "<polygon fill=\"#444443\" stroke=\"#444443\" points=\"85.5687,-28.1659 89.7132,-27.281 85.9215,-25.3882 85.5687,-28.1659\"/>\n",
       "</g>\n",
       "<!-- node22398054816008&#45;&gt;node22398053689216 -->\n",
       "<g id=\"edge6\" class=\"edge\"><title>node22398054816008:prev:c&#45;&gt;node22398053689216</title>\n",
       "<path fill=\"none\" stroke=\"#444443\" stroke-width=\"0.5\" d=\"M136.633,-22.8018C126.232,-25.278 93.7892,-33.0026 68.3241,-39.0657\"/>\n",
       "<ellipse fill=\"#444443\" stroke=\"#444443\" cx=\"138.444\" cy=\"-22.3706\" rx=\"1.60001\" ry=\"1.60001\"/>\n",
       "<polygon fill=\"#444443\" stroke=\"#444443\" points=\"67.8153,-37.7476 64.2484,-40.0361 68.4639,-40.4715 67.8153,-37.7476\"/>\n",
       "</g>\n",
       "<!-- node22398053690840&#45;&gt;node22398053689216 -->\n",
       "<g id=\"edge3\" class=\"edge\"><title>node22398053690840:next:c&#45;&gt;node22398053689216</title>\n",
       "<path fill=\"none\" stroke=\"#444443\" stroke-width=\"0.5\" d=\"M136.818,-76.3299C128.869,-74.6356 107.522,-69.9612 90,-65 82.9039,-62.9908 75.3551,-60.6539 68.1967,-58.3424\"/>\n",
       "<ellipse fill=\"#444443\" stroke=\"#444443\" cx=\"138.434\" cy=\"-76.6702\" rx=\"1.60001\" ry=\"1.60001\"/>\n",
       "<polygon fill=\"#444443\" stroke=\"#444443\" points=\"68.5022,-56.9696 64.2653,-57.063 67.6357,-59.6322 68.5022,-56.9696\"/>\n",
       "</g>\n",
       "<!-- node22398053688544 -->\n",
       "<g id=\"node4\" class=\"node\"><title>node22398053688544</title>\n",
       "<polygon fill=\"#fefecd\" stroke=\"#444443\" stroke-width=\"0.5\" points=\"67.5,-134 0.5,-134 0.5,-86 67.5,-86 67.5,-134\"/>\n",
       "<polygon fill=\"#fefecd\" stroke=\"none\" points=\"3,-118 3,-132 66,-132 66,-118 3,-118\"/>\n",
       "<polygon fill=\"none\" stroke=\"#444443\" points=\"3,-118 3,-132 66,-132 66,-118 3,-118\"/>\n",
       "<text text-anchor=\"start\" x=\"12.5\" y=\"-122.7\" font-family=\"Times,serif\" font-style=\"italic\" font-size=\"11.00\" fill=\"#444443\">MyDeque</text>\n",
       "<polygon fill=\"#fefecd\" stroke=\"none\" points=\"3,-116 3,-118 66,-118 66,-116 3,-116\"/>\n",
       "<polygon fill=\"#fefecd\" stroke=\"none\" points=\"3,-103 3,-116 34,-116 34,-103 3,-103\"/>\n",
       "<polygon fill=\"none\" stroke=\"#444443\" points=\"3,-103 3,-116 34,-116 34,-103 3,-103\"/>\n",
       "<text text-anchor=\"start\" x=\"5\" y=\"-107.2\" font-family=\"Helvetica,sans-Serif\" font-size=\"11.00\" fill=\"#444443\">head </text>\n",
       "<polygon fill=\"#fefecd\" stroke=\"none\" points=\"50,-103 50,-116 66,-116 66,-103 50,-103\"/>\n",
       "<text text-anchor=\"start\" x=\"51\" y=\"-107.2\" font-family=\"Helvetica,sans-Serif\" font-size=\"11.00\" fill=\"#444443\"> &#160;&#160;&#160;</text>\n",
       "<polygon fill=\"#fefecd\" stroke=\"none\" points=\"3,-101 3,-103 66,-103 66,-101 3,-101\"/>\n",
       "<polygon fill=\"#fefecd\" stroke=\"none\" points=\"3,-88 3,-101 34,-101 34,-88 3,-88\"/>\n",
       "<polygon fill=\"none\" stroke=\"#444443\" points=\"3,-88 3,-101 34,-101 34,-88 3,-88\"/>\n",
       "<text text-anchor=\"start\" x=\"16\" y=\"-92.2\" font-family=\"Helvetica,sans-Serif\" font-size=\"11.00\" fill=\"#444443\">tail </text>\n",
       "<polygon fill=\"#fefecd\" stroke=\"none\" points=\"50,-88 50,-101 66,-101 66,-88 50,-88\"/>\n",
       "<text text-anchor=\"start\" x=\"51\" y=\"-92.2\" font-family=\"Helvetica,sans-Serif\" font-size=\"11.00\" fill=\"#444443\"> &#160;&#160;&#160;</text>\n",
       "</g>\n",
       "<!-- node22398053688544&#45;&gt;node22398053690840 -->\n",
       "<g id=\"edge1\" class=\"edge\"><title>node22398053688544:head:c&#45;&gt;node22398053690840</title>\n",
       "<path fill=\"none\" stroke=\"#444443\" stroke-width=\"0.5\" d=\"M62.3221,-108.557C67.0139,-107.931 76.0773,-106.723 85.6035,-105.453\"/>\n",
       "<ellipse fill=\"#444443\" stroke=\"#444443\" cx=\"60.586\" cy=\"-108.788\" rx=\"1.60001\" ry=\"1.60001\"/>\n",
       "<polygon fill=\"#444443\" stroke=\"#444443\" points=\"85.9232,-106.823 89.7031,-104.906 85.5531,-104.047 85.9232,-106.823\"/>\n",
       "</g>\n",
       "<!-- node22398053688544&#45;&gt;node22398054816008 -->\n",
       "<g id=\"edge2\" class=\"edge\"><title>node22398053688544:tail:c&#45;&gt;node22398054816008</title>\n",
       "<path fill=\"none\" stroke=\"#444443\" stroke-width=\"0.5\" d=\"M61.3475,-91.5352C65.819,-86.84 76.0645,-76.0822 86.6981,-64.917\"/>\n",
       "<ellipse fill=\"#444443\" stroke=\"#444443\" cx=\"60.1035\" cy=\"-92.8414\" rx=\"1.60002\" ry=\"1.60002\"/>\n",
       "<polygon fill=\"#444443\" stroke=\"#444443\" points=\"87.9582,-65.6239 89.7031,-61.7618 85.9306,-63.6928 87.9582,-65.6239\"/>\n",
       "</g>\n",
       "</g>\n",
       "</svg>\n"
      ],
      "text/plain": [
       "<graphviz.files.Source at 0x145ef409e9e8>"
      ]
     },
     "execution_count": 21,
     "metadata": {},
     "output_type": "execute_result"
    }
   ],
   "source": [
    "#!wget -O lolviz.py https://raw.githubusercontent.com/tjhei/lolviz/master/lolviz.py\n",
    "import lolviz\n",
    "Q = MyDeque()\n",
    "Q.push_right(1)\n",
    "Q.push_right(2)\n",
    "Q.push_left(0)\n",
    "lolviz.objviz(Q)"
   ]
  },
  {
   "cell_type": "code",
   "execution_count": 22,
   "metadata": {},
   "outputs": [
    {
     "name": "stdout",
     "output_type": "stream",
     "text": [
      "[[ 0 1 2 3 4 ]]\n",
      "[[ 4 3 2 1 0 ]]\n",
      "[[ 0 1 2 3 4 ]]\n",
      "[[ 4 3 2 1 0 ]]\n",
      "ok\n"
     ]
    }
   ],
   "source": [
    "# some more tests:\n",
    "\n",
    "Q = MyDeque()\n",
    "Q.push_left(1)\n",
    "Q.push_right(2)\n",
    "assert(Q.head.item == 1)\n",
    "assert(Q.tail.item == 2)\n",
    "assert(Q.head.next == Q.tail)\n",
    "assert(Q.head.prev == None)\n",
    "assert(Q.tail.prev == Q.head)\n",
    "assert(Q.pop_right()==2)\n",
    "assert(Q.head.item == 1)\n",
    "assert(Q.head == Q.tail)\n",
    "assert(Q.head.prev == None)\n",
    "assert(Q.head.next == None)\n",
    "assert(Q.pop_right()==1)\n",
    "assert(Q.head == None)\n",
    "assert(Q.tail == None)\n",
    "\n",
    "for n in range(5):\n",
    "    Q.push_right(n)\n",
    "Q.print_it()    \n",
    "for n in range(5):\n",
    "    assert(Q.pop_left()==n)\n",
    "assert(Q.pop_left()==None) \n",
    "\n",
    "for n in range(5):\n",
    "    Q.push_left(n)\n",
    "Q.print_it()\n",
    "for n in range(5):\n",
    "    assert(Q.pop_right()==n)\n",
    "assert(Q.pop_right()==None)\n",
    "\n",
    "for n in range(5):\n",
    "    Q.push_right(n)\n",
    "Q.print_it()\n",
    "for n in range(5):\n",
    "    assert(Q.pop_right()==4-n)\n",
    "    \n",
    "for n in range(5):\n",
    "    Q.push_left(n)\n",
    "Q.print_it()\n",
    "for n in range(5):\n",
    "    assert(Q.pop_left()==4-n)\n",
    "\n",
    "print (\"ok\")"
   ]
  },
  {
   "cell_type": "code",
   "execution_count": 23,
   "metadata": {},
   "outputs": [
    {
     "name": "stdout",
     "output_type": "stream",
     "text": [
      "279 ms ± 7.02 ms per loop (mean ± std. dev. of 7 runs, 1 loop each)\n",
      "553 ms ± 22.8 ms per loop (mean ± std. dev. of 7 runs, 1 loop each)\n",
      "1.18 s ± 54.8 ms per loop (mean ± std. dev. of 7 runs, 1 loop each)\n",
      "2.37 s ± 71.7 ms per loop (mean ± std. dev. of 7 runs, 1 loop each)\n",
      "4.82 s ± 91 ms per loop (mean ± std. dev. of 7 runs, 1 loop each)\n"
     ]
    }
   ],
   "source": [
    "def test_our_deque(n):\n",
    "    Q = MyDeque()\n",
    "    for idx in range(n):\n",
    "        Q.push_right(n)\n",
    "        Q.push_left(n)\n",
    "        \n",
    "    for idx in range(n):\n",
    "        Q.pop_left()\n",
    "        Q.pop_right()\n",
    "\n",
    "sizes = [10000, 20000, 40000, 80000, 160000]\n",
    "for n in sizes:\n",
    "    %timeit test_our_deque(n)"
   ]
  },
  {
   "cell_type": "markdown",
   "metadata": {},
   "source": [
    "test_our_deque() takes: O(n). Therefore, all operations take O(1) as expected!"
   ]
  }
 ],
 "metadata": {
  "kernelspec": {
   "display_name": "Python 3",
   "language": "python",
   "name": "python3"
  },
  "language_info": {
   "codemirror_mode": {
    "name": "ipython",
    "version": 3
   },
   "file_extension": ".py",
   "mimetype": "text/x-python",
   "name": "python",
   "nbconvert_exporter": "python",
   "pygments_lexer": "ipython3",
   "version": "3.7.4"
  },
  "name": "HW04.ipynb"
 },
 "nbformat": 4,
 "nbformat_minor": 1
}
