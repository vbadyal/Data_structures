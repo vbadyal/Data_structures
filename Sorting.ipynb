{
 "cells": [
  {
   "cell_type": "markdown",
   "metadata": {},
   "source": [
    "Implement selection sort:"
   ]
  },
  {
   "cell_type": "code",
   "execution_count": 40,
   "metadata": {},
   "outputs": [],
   "source": [
    "def selection_sort(arr):\n",
    "    \"\"\" sort the given array in-place (by swapping elements) using selection sort and return it\"\"\"\n",
    "    n = len(arr)\n",
    "    if n < 1:\n",
    "        return arr\n",
    "    else:\n",
    "        for i in range(0, n-1):\n",
    "            minimum = i\n",
    "            for j in range(i+1, n):\n",
    "                if arr[j] < arr[minimum]:\n",
    "                    minimum = j\n",
    "            arr[minimum], arr[i] = arr[i], arr[minimum]\n",
    "        \n",
    "        return arr"
   ]
  },
  {
   "cell_type": "code",
   "execution_count": 41,
   "metadata": {},
   "outputs": [
    {
     "name": "stdout",
     "output_type": "stream",
     "text": [
      "[5] -> [5]\n",
      "[1, 7, 2, 8, 7] -> [1, 2, 7, 7, 8]\n",
      "[4, 3, 2, 1] -> [1, 2, 3, 4]\n",
      "[1, 2, 3, 4] -> [1, 2, 3, 4]\n",
      "[] -> []\n"
     ]
    }
   ],
   "source": [
    "# check your implementation:\n",
    "a=[5]\n",
    "print (a, end=\" -> \")\n",
    "print (selection_sort(a))\n",
    "\n",
    "a=[1,7,2,8,7]\n",
    "print (a, end=\" -> \")\n",
    "print (selection_sort(a))\n",
    "\n",
    "a=[4,3,2,1]\n",
    "print (a, end=\" -> \")\n",
    "print (selection_sort(a))\n",
    "\n",
    "a=[1,2,3,4]\n",
    "print (a, end=\" -> \")\n",
    "print (selection_sort(a))\n",
    "\n",
    "a=[]\n",
    "print (a, end=\" -> \")\n",
    "print (selection_sort(a))"
   ]
  },
  {
   "cell_type": "markdown",
   "metadata": {},
   "source": [
    "Finish the implementation of merge sort."
   ]
  },
  {
   "cell_type": "code",
   "execution_count": 36,
   "metadata": {},
   "outputs": [],
   "source": [
    "def merge(left, right):\n",
    "    # merge the two arrays into a sorted array assuming\n",
    "    # left and right are already sorted individually\n",
    "    result = []\n",
    "    \n",
    "    i=j=0\n",
    "    \n",
    "    while i < len(left) and j < len(right):\n",
    "        if left[i] < right[j]:\n",
    "            result.append(left[i])\n",
    "            i += 1\n",
    "        else:\n",
    "            result.append(right[j])\n",
    "            j += 1\n",
    "    result.extend(left[i:])\n",
    "    result.extend(right[j:])\n",
    "    return result\n",
    "                \n",
    "def merge_sort(arr):\n",
    "    # sort recursively using merge-sort\n",
    "    if len(arr) == 0 or len(arr) == 1:\n",
    "        return arr[:len(arr)]\n",
    "    \n",
    "    mid = len(arr)//2\n",
    "    \n",
    "    left_arr = merge_sort(arr[:mid])\n",
    "    right_arr = merge_sort(arr[mid:])\n",
    "    \n",
    "    result = merge(left_arr,right_arr)\n",
    "    return result"
   ]
  },
  {
   "cell_type": "code",
   "execution_count": 38,
   "metadata": {},
   "outputs": [
    {
     "name": "stdout",
     "output_type": "stream",
     "text": [
      "[5] -> [5]\n",
      "[1, 7, 2, 8, 7] -> [1, 2, 7, 7, 8]\n",
      "[4, 3, 2, 1] -> [1, 2, 3, 4]\n",
      "[1, 2, 3, 4] -> [1, 2, 3, 4]\n",
      "[] -> []\n"
     ]
    }
   ],
   "source": [
    "# check your implementation:\n",
    "a=[5]\n",
    "print (a, end=\" -> \")\n",
    "print (merge_sort(a))\n",
    "\n",
    "a=[1,7,2,8,7]\n",
    "print (a, end=\" -> \")\n",
    "print (merge_sort(a))\n",
    "\n",
    "a=[4,3,2,1]\n",
    "print (a, end=\" -> \")\n",
    "print (merge_sort(a))\n",
    "\n",
    "a=[1,2,3,4]\n",
    "print (a, end=\" -> \")\n",
    "print (merge_sort(a))\n",
    "\n",
    "a=[]\n",
    "print (a, end=\" -> \")\n",
    "print (merge_sort(a))"
   ]
  }
 ],
 "metadata": {
  "kernelspec": {
   "display_name": "Python 3",
   "language": "python",
   "name": "python3"
  },
  "language_info": {
   "codemirror_mode": {
    "name": "ipython",
    "version": 3
   },
   "file_extension": ".py",
   "mimetype": "text/x-python",
   "name": "python",
   "nbconvert_exporter": "python",
   "pygments_lexer": "ipython3",
   "version": "3.7.4"
  },
  "name": "HW03.ipynb"
 },
 "nbformat": 4,
 "nbformat_minor": 1
}
