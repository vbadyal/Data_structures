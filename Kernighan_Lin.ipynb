{
 "cells": [
  {
   "cell_type": "code",
   "execution_count": 5,
   "metadata": {},
   "outputs": [],
   "source": [
    "#Importing the necessary packages/libraries\n",
    "\n",
    "import networkx as nx\n",
    "import matplotlib.pyplot as plt\n",
    "import numpy as np\n",
    "import random as r\n",
    "import math as m\n",
    "import time as t\n",
    "import unittest, sys"
   ]
  },
  {
   "cell_type": "code",
   "execution_count": 6,
   "metadata": {},
   "outputs": [],
   "source": [
    "#Kernighan Lin Algorithm\n",
    "\n",
    "class Kernighan_Lin():\n",
    "    def __init__(self, nodes, edges):\n",
    "        self.nodes = nodes\n",
    "        self.edges = edges\n",
    "        \n",
    "    def partition(self):\n",
    "        \"\"\"Creates a bisection by dividing the given set of nodes into two subsets\"\"\"\n",
    "        \n",
    "        ##We make the partition 'A' smaller than partition 'B' in case we have odd numbered nodes\n",
    "        l = m.floor(len(self.nodes)/2)\n",
    "        partition_label = {}\n",
    "        \n",
    "        for i in range(l):\n",
    "            partition_label[self.nodes[i]] = \"A\"\n",
    "        for i in range(l, len(self.nodes)):\n",
    "            partition_label[self.nodes[i]] = \"B\"\n",
    "        return partition_label\n",
    "    \n",
    "    def external_cost(self, i, B_i):\n",
    "        \"\"\"Computes the external cost of the nodes, which is the sum of the edge weight of a given node from the subset it belongs to the node in another subset if they are connected\"\"\"\n",
    "        \n",
    "        external_cost = 0\n",
    "        for j in range(len(B_i)):\n",
    "                if (i, B_i[j]) in self.edges:\n",
    "                    external_cost += self.edges[(i, B_i[j])]\n",
    "                elif (B_i[j], i) in self.edges:\n",
    "                    external_cost += self.edges[(B_i[j], i)]\n",
    "                else:\n",
    "                    external_cost += 0\n",
    "        return external_cost\n",
    "    \n",
    "    def internal_cost(self, i, A_i):\n",
    "        \"\"\"Computes the internal cost of the nodes, which is the sum of the edge weight of a given node from the subset it belongs to the node in the same subset if they are connected\"\"\"\n",
    "        \n",
    "        internal_cost = 0\n",
    "        for k in range(len(A_i)):\n",
    "                if (i, A_i[k]) in self.edges:\n",
    "                    internal_cost += self.edges[(i, A_i[k])]\n",
    "                elif (A_i[k], i) in self.edges:\n",
    "                    internal_cost += self.edges[(A_i[k], i)]\n",
    "                else:\n",
    "                    internal_cost += 0\n",
    "        return internal_cost\n",
    "            \n",
    "    def gain(self, A_i, B_i):\n",
    "        \"\"\"Computes the maximum gain achieved by swaping the two nodes\"\"\"\n",
    "        G_c = {}\n",
    "        for i in range(len(A_i)):\n",
    "            for j in range(len(B_i)):\n",
    "                I_i = self.internal_cost(A_i[i], A_i)\n",
    "                I_j = self.internal_cost(B_i[j], B_i)\n",
    "                E_i = self.external_cost(A_i[i], B_i)\n",
    "                E_j = self.external_cost(B_i[j], A_i)\n",
    "                D_i = E_i - I_i\n",
    "                D_j = E_j - I_j\n",
    "                \n",
    "                if (A_i[i], B_i[j]) in self.edges:\n",
    "                    c = self.edges[(A_i[i], B_i[j])]\n",
    "                elif (B_i[j], A_i[i]) in self.edges:\n",
    "                    c = self.edges[(B_i[j], A_i[i])]\n",
    "                else:\n",
    "                    c = 0\n",
    "                G_c[(A_i[i], B_i[j])] = (D_i + D_j - 2*c)      \n",
    "        return G_c\n",
    "\n",
    "    def bisection(self):\n",
    "        \"\"\"It creates the optimal bisection, and repeats until the gain achieved by swapping the node is greater than zero\"\"\"\n",
    "        A_f = []\n",
    "        B_f = []\n",
    "        G_f = []\n",
    "        \n",
    "        A_ini = []\n",
    "        B_ini = []\n",
    "        partition_label = self.partition()\n",
    "        for i in range(len(self.nodes)):\n",
    "            if (partition_label[i] == \"A\") and (self.nodes[i] not in A_f):\n",
    "                A_ini.append(self.nodes[i])\n",
    "            if (partition_label[i] == \"B\") and (self.nodes[i] not in B_f):\n",
    "                B_ini.append(self.nodes[i])\n",
    "                \n",
    "        g_max_value = 1\n",
    "            \n",
    "        while g_max_value > 0:\n",
    "            A_i = []\n",
    "            B_i = []\n",
    "            for i in range(len(self.nodes)):\n",
    "                if (partition_label[i] == \"A\") and (self.nodes[i] not in A_f) and (self.nodes[i] not in B_f):\n",
    "                    A_i.append(self.nodes[i])\n",
    "                if (partition_label[i] == \"B\") and (self.nodes[i] not in A_f) and (self.nodes[i] not in B_f):\n",
    "                    B_i.append(self.nodes[i])\n",
    "            \n",
    "            if len(A_i) > 0 and len(B_i) > 0:\n",
    "                gain_dict = self.gain(A_i, B_i)\n",
    "                g_max_key = max(gain_dict, key=gain_dict.get)\n",
    "                g_max_value = gain_dict[g_max_key]\n",
    "\n",
    "            else:\n",
    "                g_max_value = -1\n",
    "                \n",
    "            if g_max_value <= 0:\n",
    "                break\n",
    "            \n",
    "            else:\n",
    "                if g_max_key[0] in A_i:\n",
    "                    B_f.append(g_max_key[0])\n",
    "                    A_i.remove(g_max_key[0])\n",
    "                else:\n",
    "                    A_f.append(g_max_key[0])\n",
    "                    B_i.remove(g_max_key[0])\n",
    "                \n",
    "                if g_max_key[1] in B_i:\n",
    "                    A_f.append(g_max_key[1])\n",
    "                    B_i.remove(g_max_key[1])\n",
    "                else:\n",
    "                    B_f.append(g_max_key[1])\n",
    "                    A_i.remove(g_max_key[1])\n",
    "            \n",
    "        for i in range(len(A_i)):\n",
    "            A_f.append(A_i[i])\n",
    "            \n",
    "        for i in range(len(B_i)):\n",
    "            B_f.append(B_i[i])\n",
    "            \n",
    "        partition_cost = 0\n",
    "        \n",
    "        for i in range(len(A_f)):\n",
    "            for j in range(len(B_f)):\n",
    "                if (A_f[i], B_f[j]) in self.edges:\n",
    "                    partition_cost += self.edges[(A_f[i], B_f[j])]\n",
    "                elif (B_f[j], A_f[i]) in self.edges:\n",
    "                    partition_cost += self.edges[(B_f[j], A_f[i])]\n",
    "                else:\n",
    "                    continue\n",
    "        \n",
    "        print(\"Final partition A:\", A_f)\n",
    "        print(\"Final partition B:\", B_f)\n",
    "        print(\"Partition cost = \", partition_cost)\n",
    "        \n",
    "        return A_f, B_f, partition_cost    "
   ]
  },
  {
   "cell_type": "code",
   "execution_count": 7,
   "metadata": {},
   "outputs": [],
   "source": [
    "#Exact/Brute-Force Method\n",
    "\n",
    "class Naive_bisection():\n",
    "    \n",
    "    def __init__(self, nodes, edges):\n",
    "        self.nodes = nodes\n",
    "        self.edges = edges\n",
    "        \n",
    "    def create_combinations(self):\n",
    "        \n",
    "        \"\"\"Creates all possible combinations of a set of size = len(array)/2\n",
    "            combinations('ABCD') --> AB AC AD BC BD CD\n",
    "            combinations(range(3)) --> 01 02 12 \"\"\"\n",
    "                \n",
    "        node_tuple = tuple(self.nodes)\n",
    "        partition_size = m.floor(len(self.nodes)/2)\n",
    "        if partition_size > len(self.nodes):\n",
    "            raise Exception(\"Partition size cannot exceed number of elements in a set\")\n",
    "            return\n",
    "        indices = list(range(partition_size))\n",
    "        \n",
    "        #first combination created by picking the first n nodes, where n is the partition size  \n",
    "        yield (node_tuple[i] for i in indices)\n",
    "        \n",
    "        #Creating all possible combination/pair of nodes by iteerating over all indices\n",
    "        while True:\n",
    "            for i in reversed(range(partition_size)):\n",
    "                if indices[i] != i + len(self.nodes) - partition_size:\n",
    "                    break\n",
    "            else:\n",
    "                return\n",
    "            indices[i] += 1\n",
    "            for j in range(i+1, partition_size):\n",
    "                indices[j] = indices[j-1] + 1\n",
    "            yield tuple(node_tuple[i] for i in indices)\n",
    "            \n",
    "            \n",
    "    def evaluate_combinations(self):\n",
    "        \n",
    "        \"\"\"Calculates and compares cost of all the possible two way partitions. \n",
    "        Returns the minimum cost and the corresponding partitions\"\"\"\n",
    "       \n",
    "        min_cost = 0\n",
    "        iteration = 0\n",
    "        Partition_1 = []\n",
    "        Partition_2 = []\n",
    "        \n",
    "\n",
    "        combinations = self.create_combinations()\n",
    "\n",
    "        for combination in combinations:\n",
    "    \n",
    "            iteration += 1\n",
    "            A = list(combination)\n",
    "            B = list(set(self.nodes)-set(A))\n",
    "            cost = 0\n",
    "    \n",
    "            for element_A in A:\n",
    "                for element_B in B:\n",
    "                    if (element_A,element_B) in self.edges:\n",
    "                        cost += self.edges[(element_A,element_B)]\n",
    "                    elif (element_B,element_A) in self.edges:\n",
    "                        cost += self.edges[(element_B,element_A)]\n",
    "                    else:\n",
    "                        continue\n",
    "            \n",
    "            #minimum cost of partition and partitions updated after first iteration\n",
    "            if iteration == 1:\n",
    "                min_cost = cost\n",
    "                Partition_1 = A\n",
    "                Partition_2 = B\n",
    "            \n",
    "            #minimum cost and corresponding partitions updated if better solution found\n",
    "            elif cost < min_cost:\n",
    "                min_cost = cost\n",
    "                Partition_1 = A\n",
    "                Partition_2 = B\n",
    "        \n",
    "            else:\n",
    "                continue    \n",
    "\n",
    "        print(\"Final Partition A: \", Partition_1)\n",
    "        print(\"Final Partition B: \", Partition_2)\n",
    "        print(\"Cost of Partition: \", min_cost)\n",
    "        \n",
    "        return Partition_1, Partition_2, min_cost"
   ]
  },
  {
   "cell_type": "code",
   "execution_count": 8,
   "metadata": {},
   "outputs": [],
   "source": [
    "class Test_Kernighan_Lin(unittest.TestCase):\n",
    "    \n",
    "    def test_partition(self):\n",
    "        \"\"\"Tests if the intial two-way partition is created by assigning the floor(first half nodes) to set A\n",
    "        and the other half to the set B\"\"\"\n",
    "        nodes = [0, 1, 2, 3, 4]\n",
    "        edges = {(0,1): 4, (1,2): 8, (2,3): 10, (3,4): 5, (4,0): 8}\n",
    "        kl = Kernighan_Lin(nodes, edges)\n",
    "        self.assertEqual(kl.partition(),{0:\"A\",1:\"A\",2:\"B\",3:\"B\",4:\"B\"})\n",
    "        \n",
    "    def test_gain(self):\n",
    "        \"\"\"Tests if the gain in the cut cost for node swaps are calculated correctly\"\"\"\n",
    "        nodes = [0, 1, 2, 3, 4]\n",
    "        edges = {(0,1): 4, (1,2): 8, (2,3): 10, (3,4): 5, (4,0): 8}\n",
    "        kl = Kernighan_Lin(nodes, edges)\n",
    "        A_i = [0, 1]\n",
    "        B_i = [2, 3, 4]\n",
    "        self.assertEqual(kl.gain(A_i,B_i), {(0,2):2, (0,3):-11, (0,4):-9, (1,2):-14, (1,3):-11, (1,4):7})\n",
    "        \n",
    "    def test_bisection(self):\n",
    "        \"\"\"Tests for the final partitions created and the partition costs calculated\"\"\"\n",
    "        nodes = [0, 1, 2, 3, 4]\n",
    "        edges = {(0,1): 4, (1,2): 8, (2,3): 10, (3,4): 5, (4,0): 8}\n",
    "        kl = Kernighan_Lin(nodes,edges)\n",
    "        self.assertEqual(kl.bisection(),([4, 0], [1, 2, 3], 9))"
   ]
  },
  {
   "cell_type": "code",
   "execution_count": 9,
   "metadata": {},
   "outputs": [],
   "source": [
    "class Test_Naive_bisection(unittest.TestCase):\n",
    "    \n",
    "    def test_combinations(self):\n",
    "        \"\"\"Tests if the all the possible balanced two-way partitions partitions are created correctly\"\"\"\n",
    "        nodes = [0, 1, 2, 3, 4]\n",
    "        edges = {(0,1): 4, (1,2): 8, (2,3): 10, (3,4): 5, (4,0): 8}\n",
    "        nb = Naive_bisection(nodes,edges)\n",
    "        comb = nb.create_combinations()\n",
    "        pairs = []\n",
    "        for pair in comb:\n",
    "            pairs.append(pair)\n",
    "        del pairs[0]\n",
    "        self.assertEqual(pairs, [(0, 2), (0, 3), (0, 4), (1, 2), (1, 3), (1, 4), (2, 3), (2, 4), (3, 4)])\n",
    "    \n",
    "    \n",
    "    def test_naive(self):\n",
    "        \"\"\"Tests for the final partitions created and the partition cpsts calculated\"\"\"\n",
    "        nodes = [0, 1, 2, 3, 4]\n",
    "        edges = {(0,1): 4, (1,2): 8, (2,3): 10, (3,4): 5, (4,0): 8}\n",
    "        nb = Naive_bisection(nodes,edges)\n",
    "        self.assertEqual(nb.evaluate_combinations(),([0,4],[1,2,3],9))"
   ]
  },
  {
   "cell_type": "code",
   "execution_count": 10,
   "metadata": {},
   "outputs": [
    {
     "name": "stderr",
     "output_type": "stream",
     "text": [
      "...\n",
      "----------------------------------------------------------------------\n",
      "Ran 3 tests in 0.001s\n",
      "\n",
      "OK\n"
     ]
    },
    {
     "name": "stdout",
     "output_type": "stream",
     "text": [
      "Final partition A: [4, 0]\n",
      "Final partition B: [1, 2, 3]\n",
      "Partition cost =  9\n"
     ]
    },
    {
     "data": {
      "text/plain": [
       "<unittest.runner.TextTestResult run=3 errors=0 failures=0>"
      ]
     },
     "execution_count": 10,
     "metadata": {},
     "output_type": "execute_result"
    }
   ],
   "source": [
    "suite = unittest.TestLoader().loadTestsFromTestCase(Test_Kernighan_Lin)\n",
    "unittest.TextTestRunner(verbosity=1).run(suite)"
   ]
  },
  {
   "cell_type": "code",
   "execution_count": 11,
   "metadata": {},
   "outputs": [
    {
     "name": "stderr",
     "output_type": "stream",
     "text": [
      "..\n",
      "----------------------------------------------------------------------\n",
      "Ran 2 tests in 0.001s\n",
      "\n",
      "OK\n"
     ]
    },
    {
     "name": "stdout",
     "output_type": "stream",
     "text": [
      "Final Partition A:  [0, 4]\n",
      "Final Partition B:  [1, 2, 3]\n",
      "Cost of Partition:  9\n"
     ]
    },
    {
     "data": {
      "text/plain": [
       "<unittest.runner.TextTestResult run=2 errors=0 failures=0>"
      ]
     },
     "execution_count": 11,
     "metadata": {},
     "output_type": "execute_result"
    }
   ],
   "source": [
    "suite = unittest.TestLoader().loadTestsFromTestCase(Test_Naive_bisection)\n",
    "unittest.TextTestRunner(verbosity=1).run(suite)"
   ]
  },
  {
   "cell_type": "code",
   "execution_count": 12,
   "metadata": {},
   "outputs": [],
   "source": [
    "#Generating the random connected graph with random number of nodes and random number of edges\n",
    "\n",
    "def Graph(n):\n",
    "    ##Defining the Graph as 'G'\n",
    "    G=nx.Graph()\n",
    "\n",
    "    ##Defining the random number of total nodes \n",
    "    total_nodes = n\n",
    "\n",
    "    ##Defining the initial empty dictinary of edges\n",
    "    edges = {}\n",
    "\n",
    "    ##making the graph connected by having 'n-1' number of edges and degree 2 of each node\n",
    "    for i in range(total_nodes):\n",
    "        if i < (total_nodes - 1):\n",
    "            wt = r.randint(1, 10)\n",
    "            G.add_edge(i, i+1, weight = wt)\n",
    "            edges[(i, i+1)] = wt\n",
    "        else:\n",
    "            wt = r.randint(1, 10)\n",
    "            G.add_edge(i, 0, weight = wt)\n",
    "            edges[(i, 0)] = wt\n",
    "\n",
    "    ##Specifying the number of extra edges to be added to the above graph\n",
    "    ext_edges = r.randint(0, (total_nodes*(total_nodes - 1)*0.5 - total_nodes))\n",
    "\n",
    "    ##Adding those edges\n",
    "    for i in range(ext_edges):\n",
    "        a = r.randint(0, total_nodes)\n",
    "        b = r.randint(0, total_nodes)\n",
    "        wt = r.randint(1, 10)\n",
    "        if (a != b) == True and G.has_edge(a, b) == False:\n",
    "            G.add_edge(a, b, weight = wt)\n",
    "            edges[(a, b)] = wt\n",
    "\n",
    "    ##Nodes list\n",
    "    nodes = np.array(nx.nodes(G))\n",
    "    \n",
    "    print(edges)\n",
    "    \n",
    "    #nx.draw(G, with_labels = True)\n",
    "    \n",
    "    return nodes, edges"
   ]
  },
  {
   "cell_type": "code",
   "execution_count": 13,
   "metadata": {},
   "outputs": [
    {
     "name": "stdout",
     "output_type": "stream",
     "text": [
      "{(0, 1): 4, (1, 2): 4, (2, 3): 8, (3, 4): 5, (4, 0): 5, (0, 3): 3, (5, 4): 5, (2, 5): 2}\n"
     ]
    }
   ],
   "source": [
    "nodes, edges = Graph(5)"
   ]
  },
  {
   "cell_type": "code",
   "execution_count": 14,
   "metadata": {},
   "outputs": [
    {
     "name": "stdout",
     "output_type": "stream",
     "text": [
      "Final partition A: [np.int64(3), np.int64(1), np.int64(2)]\n",
      "Final partition B: [np.int64(0), np.int64(4), np.int64(5)]\n",
      "Partition cost =  14\n"
     ]
    },
    {
     "data": {
      "text/plain": [
       "([np.int64(3), np.int64(1), np.int64(2)],\n",
       " [np.int64(0), np.int64(4), np.int64(5)],\n",
       " 14)"
      ]
     },
     "execution_count": 14,
     "metadata": {},
     "output_type": "execute_result"
    }
   ],
   "source": [
    "kl = Kernighan_Lin(nodes,edges)\n",
    "kl.bisection()"
   ]
  },
  {
   "cell_type": "code",
   "execution_count": 15,
   "metadata": {},
   "outputs": [
    {
     "name": "stdout",
     "output_type": "stream",
     "text": [
      "Final Partition A:  [np.int64(0), np.int64(4), np.int64(5)]\n",
      "Final Partition B:  [np.int64(1), np.int64(2), np.int64(3)]\n",
      "Cost of Partition:  14\n"
     ]
    },
    {
     "data": {
      "text/plain": [
       "([np.int64(0), np.int64(4), np.int64(5)],\n",
       " [np.int64(1), np.int64(2), np.int64(3)],\n",
       " 14)"
      ]
     },
     "execution_count": 15,
     "metadata": {},
     "output_type": "execute_result"
    }
   ],
   "source": [
    "nb = Naive_bisection(nodes,edges)\n",
    "nb.evaluate_combinations()"
   ]
  },
  {
   "cell_type": "code",
   "execution_count": 16,
   "metadata": {},
   "outputs": [
    {
     "name": "stdout",
     "output_type": "stream",
     "text": [
      "Edges and corresponding weights for a graph with 3 vertices\n",
      "{(0, 1): 6, (1, 2): 10, (2, 0): 3}\n",
      "\n",
      "\n",
      "Partition Genetared using Kernighan-Lin Algorithm:\n",
      "Final partition A: [np.int64(0)]\n",
      "Final partition B: [np.int64(1), np.int64(2)]\n",
      "Partition cost =  9\n",
      "\n",
      "\n",
      "Partition Genetared using Naive Approach/Brute Force:\n",
      "Final Partition A:  [np.int64(0)]\n",
      "Final Partition B:  [np.int64(1), np.int64(2)]\n",
      "Cost of Partition:  9\n",
      "\n",
      "\n",
      "******************************************************\n",
      "Edges and corresponding weights for a graph with 5 vertices\n",
      "{(0, 1): 3, (1, 2): 3, (2, 3): 7, (3, 4): 2, (4, 0): 9}\n",
      "\n",
      "\n",
      "Partition Genetared using Kernighan-Lin Algorithm:\n",
      "Final partition A: [np.int64(4), np.int64(0)]\n",
      "Final partition B: [np.int64(1), np.int64(2), np.int64(3)]\n",
      "Partition cost =  5\n",
      "\n",
      "\n",
      "Partition Genetared using Naive Approach/Brute Force:\n",
      "Final Partition A:  [np.int64(0), np.int64(4)]\n",
      "Final Partition B:  [np.int64(1), np.int64(2), np.int64(3)]\n",
      "Cost of Partition:  5\n",
      "\n",
      "\n",
      "******************************************************\n",
      "Edges and corresponding weights for a graph with 7 vertices\n",
      "{(0, 1): 7, (1, 2): 9, (2, 3): 4, (3, 4): 3, (4, 5): 6, (5, 6): 9, (6, 0): 2}\n",
      "\n",
      "\n",
      "Partition Genetared using Kernighan-Lin Algorithm:\n",
      "Final partition A: [np.int64(0), np.int64(1), np.int64(2)]\n",
      "Final partition B: [np.int64(3), np.int64(4), np.int64(5), np.int64(6)]\n",
      "Partition cost =  6\n",
      "\n",
      "\n",
      "Partition Genetared using Naive Approach/Brute Force:\n",
      "Final Partition A:  [np.int64(4), np.int64(5), np.int64(6)]\n",
      "Final Partition B:  [np.int64(0), np.int64(1), np.int64(2), np.int64(3)]\n",
      "Cost of Partition:  5\n",
      "\n",
      "\n",
      "******************************************************\n",
      "Edges and corresponding weights for a graph with 9 vertices\n",
      "{(0, 1): 4, (1, 2): 3, (2, 3): 4, (3, 4): 5, (4, 5): 4, (5, 6): 9, (6, 7): 1, (7, 8): 6, (8, 0): 6, (0, 5): 1, (7, 5): 3, (9, 0): 5, (6, 8): 1, (4, 9): 5, (3, 0): 10, (7, 3): 10}\n",
      "\n",
      "\n",
      "Partition Genetared using Kernighan-Lin Algorithm:\n",
      "Final partition A: [np.int64(7), np.int64(0), np.int64(1), np.int64(2), np.int64(3)]\n",
      "Final partition B: [np.int64(4), np.int64(5), np.int64(6), np.int64(8), np.int64(9)]\n",
      "Partition cost =  27\n",
      "\n",
      "\n",
      "Partition Genetared using Naive Approach/Brute Force:\n",
      "Final Partition A:  [np.int64(0), np.int64(1), np.int64(3), np.int64(7), np.int64(8)]\n",
      "Final Partition B:  [np.int64(2), np.int64(4), np.int64(5), np.int64(6), np.int64(9)]\n",
      "Cost of Partition:  23\n",
      "\n",
      "\n",
      "******************************************************\n"
     ]
    }
   ],
   "source": [
    "kl_rt = [] #list to store run-time for kl-algorithm\n",
    "na_rt = [] #list to store naive bisection run-time\n",
    "v = [] #list to store number of nodes in the graph problem\n",
    "cost_kl = [] #list to store cost of partition for KL-Algorithm\n",
    "cost_na = [] #list to store cost of partition for Naive/Brute Force Approach\n",
    "\n",
    "for i in range(3,10,2):\n",
    "    print(\"Edges and corresponding weights for a graph with\", i, \"vertices\")\n",
    "    nodes, edges = Graph(i)\n",
    "    print(\"\\n\")\n",
    "    v.append(i)\n",
    "    \n",
    "    print(\"Partition Genetared using Kernighan-Lin Algorithm:\")\n",
    "    \n",
    "    start_time_k = t.time()\n",
    "    kl = Kernighan_Lin(nodes, edges)\n",
    "    cost_kl.append(kl.bisection()[2])\n",
    "    elapsed_time_k = t.time() - start_time_k\n",
    "        \n",
    "    kl_rt.append(elapsed_time_k)\n",
    "    print(\"\\n\")\n",
    "    \n",
    "    print(\"Partition Genetared using Naive Approach/Brute Force:\")\n",
    "    \n",
    "    start_time_n = t.time()\n",
    "    nb = Naive_bisection(nodes,edges)\n",
    "    cost_na.append(nb.evaluate_combinations()[2])\n",
    "    elapsed_time_n = t.time() - start_time_n\n",
    "        \n",
    "    na_rt.append(elapsed_time_n)\n",
    "    print(\"\\n\")\n",
    "    print(\"******************************************************\")"
   ]
  },
  {
   "cell_type": "code",
   "execution_count": 17,
   "metadata": {},
   "outputs": [
    {
     "data": {
      "image/png": "[encoded data removed]",
      "text/plain": [
       "<Figure size 640x480 with 1 Axes>"
      ]
     },
     "metadata": {},
     "output_type": "display_data"
    },
    {
     "data": {
      "text/plain": [
       "<Figure size 640x480 with 0 Axes>"
      ]
     },
     "metadata": {},
     "output_type": "display_data"
    }
   ],
   "source": [
    "plt.plot(v, kl_rt, label = \"Kernighan Lin\")\n",
    "plt.plot(v, na_rt, label = \"Exact Method\")\n",
    "\n",
    "# naming the x axis \n",
    "plt.xlabel('Number of nodes') \n",
    "\n",
    "# naming the y axis \n",
    "plt.ylabel('Run-time (seconds)') \n",
    "\n",
    "# giving a title to my graph \n",
    "plt.title('Run-time vs Problem size') \n",
    "  \n",
    "# show a legend on the plot \n",
    "plt.legend() \n",
    "  \n",
    "# function to show the plot \n",
    "fig1 = plt.gcf()\n",
    "plt.show()\n",
    "plt.draw()\n",
    "fig1.savefig('runtime.png', dpi=100)"
   ]
  },
  {
   "cell_type": "code",
   "execution_count": 18,
   "metadata": {},
   "outputs": [
    {
     "data": {
      "image/png": "[encoded data removed]",
      "text/plain": [
       "<Figure size 640x480 with 1 Axes>"
      ]
     },
     "metadata": {},
     "output_type": "display_data"
    },
    {
     "data": {
      "text/plain": [
       "<Figure size 640x480 with 0 Axes>"
      ]
     },
     "metadata": {},
     "output_type": "display_data"
    }
   ],
   "source": [
    "plt.plot(v, cost_kl, label = \"Kernighan Lin\")\n",
    "plt.plot(v, cost_na, label = \"Exact Method\")\n",
    "\n",
    "# naming the x axis \n",
    "plt.xlabel('Number of nodes') \n",
    "\n",
    "# naming the y axis \n",
    "plt.ylabel('Partition Cost') \n",
    "\n",
    "# giving a title to my graph \n",
    "plt.title('Partition Cost vs Problem size') \n",
    "  \n",
    "# show a legend on the plot \n",
    "plt.legend() \n",
    "  \n",
    "# function to show the plot \n",
    "fig2 = plt.gcf()\n",
    "plt.show()\n",
    "plt.draw()\n",
    "fig2.savefig('cost.png', dpi=100)"
   ]
  }
 ],
 "metadata": {
  "kernelspec": {
   "display_name": "devenv",
   "language": "python",
   "name": "python3"
  },
  "language_info": {
   "codemirror_mode": {
    "name": "ipython",
    "version": 3
   },
   "file_extension": ".py",
   "mimetype": "text/x-python",
   "name": "python",
   "nbconvert_exporter": "python",
   "pygments_lexer": "ipython3",
   "version": "3.11.5"
  }
 },
 "nbformat": 4,
 "nbformat_minor": 2
}
